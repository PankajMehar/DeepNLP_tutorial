{
 "cells": [
  {
   "cell_type": "code",
   "execution_count": 11,
   "metadata": {
    "collapsed": true
   },
   "outputs": [],
   "source": [
    "# Lab 12 Character Sequence RNN\n",
    "import tensorflow as tf\n",
    "import numpy as np\n",
    "tf.set_random_seed(777)  # reproducibility\n",
    "tf.reset_default_graph()"
   ]
  },
  {
   "cell_type": "code",
   "execution_count": 12,
   "metadata": {
    "collapsed": true
   },
   "outputs": [],
   "source": [
    "sample = \" if you want you\"\n",
    "idx2char = list(set(sample))  # index -> char\n",
    "char2idx = {c: i for i, c in enumerate(idx2char)}  # char -> idex"
   ]
  },
  {
   "cell_type": "code",
   "execution_count": 13,
   "metadata": {
    "collapsed": true
   },
   "outputs": [],
   "source": [
    "# hyper parameters\n",
    "dic_size = len(char2idx)  # RNN input size (one hot size)\n",
    "hidden_size = len(char2idx)  # RNN output size\n",
    "num_classes = len(char2idx)  # final output size (RNN or softmax, etc.)\n",
    "batch_size = 1  # one sample data, one batch\n",
    "sequence_length = len(sample) - 1  # number of lstm rollings (unit #)\n",
    "learning_rate = 0.1\n"
   ]
  },
  {
   "cell_type": "code",
   "execution_count": 14,
   "metadata": {
    "collapsed": true
   },
   "outputs": [],
   "source": [
    "sample_idx = [char2idx[c] for c in sample]  # char to index\n",
    "x_data = [sample_idx[:-1]]  # X data sample (0 ~ n-1) hello: hell\n",
    "y_data = [sample_idx[1:]]   # Y label sample (1 ~ n) hello: ello\n"
   ]
  },
  {
   "cell_type": "code",
   "execution_count": 15,
   "metadata": {
    "collapsed": true
   },
   "outputs": [],
   "source": [
    "X = tf.placeholder(tf.int32, [None, sequence_length])  # X data\n",
    "Y = tf.placeholder(tf.int32, [None, sequence_length])  # Y label\n"
   ]
  },
  {
   "cell_type": "code",
   "execution_count": 16,
   "metadata": {
    "collapsed": true
   },
   "outputs": [],
   "source": [
    "x_one_hot = tf.one_hot(X, num_classes)  # one hot: 1 -> 0 1 0 0 0 0 0 0 0 0\n",
    "cell = tf.contrib.rnn.BasicLSTMCell(\n",
    "    num_units=hidden_size, state_is_tuple=True)\n",
    "initial_state = cell.zero_state(batch_size, tf.float32)\n",
    "outputs, _states = tf.nn.dynamic_rnn(\n",
    "    cell, x_one_hot, initial_state=initial_state, dtype=tf.float32)\n"
   ]
  },
  {
   "cell_type": "code",
   "execution_count": 17,
   "metadata": {
    "collapsed": true
   },
   "outputs": [],
   "source": [
    "# FC layer\n",
    "X_for_fc = tf.reshape(outputs, [-1, hidden_size])\n",
    "outputs = tf.contrib.layers.fully_connected(X_for_fc, num_classes, activation_fn=None)"
   ]
  },
  {
   "cell_type": "code",
   "execution_count": 18,
   "metadata": {
    "collapsed": true
   },
   "outputs": [],
   "source": [
    "# reshape out for sequence_loss\n",
    "outputs = tf.reshape(outputs, [batch_size, sequence_length, num_classes])\n"
   ]
  },
  {
   "cell_type": "code",
   "execution_count": 19,
   "metadata": {
    "collapsed": true
   },
   "outputs": [],
   "source": [
    "weights = tf.ones([batch_size, sequence_length])\n",
    "sequence_loss = tf.contrib.seq2seq.sequence_loss(\n",
    "    logits=outputs, targets=Y, weights=weights)\n",
    "loss = tf.reduce_mean(sequence_loss)\n",
    "train = tf.train.AdamOptimizer(learning_rate=learning_rate).minimize(loss)\n"
   ]
  },
  {
   "cell_type": "code",
   "execution_count": 20,
   "metadata": {},
   "outputs": [
    {
     "name": "stdout",
     "output_type": "stream",
     "text": [
      "0 loss: 2.31128 Prediction:   o  oo nnn   n\n",
      "1 loss: 2.18182 Prediction:               u\n",
      "2 loss: 2.05874 Prediction:               u\n",
      "3 loss: 1.91606 Prediction:      u  uuy y u\n",
      "4 loss: 1.72685 Prediction: y    u wnnt you\n",
      "5 loss: 1.47268 Prediction: y   ou wnnt you\n",
      "6 loss: 1.1991 Prediction: y   ou want you\n",
      "7 loss: 0.956117 Prediction: yf you want you\n",
      "8 loss: 0.743511 Prediction: if you want you\n",
      "9 loss: 0.570845 Prediction: if you want you\n",
      "10 loss: 0.425447 Prediction: if you want you\n",
      "11 loss: 0.307121 Prediction: if you want you\n",
      "12 loss: 0.214371 Prediction: if you want you\n",
      "13 loss: 0.146258 Prediction: if you want you\n",
      "14 loss: 0.0990134 Prediction: if you want you\n",
      "15 loss: 0.0670957 Prediction: if you want you\n",
      "16 loss: 0.0453783 Prediction: if you want you\n",
      "17 loss: 0.0308809 Prediction: if you want you\n",
      "18 loss: 0.0214489 Prediction: if you want you\n",
      "19 loss: 0.0152717 Prediction: if you want you\n",
      "20 loss: 0.0111333 Prediction: if you want you\n",
      "21 loss: 0.00831356 Prediction: if you want you\n",
      "22 loss: 0.00636388 Prediction: if you want you\n",
      "23 loss: 0.00498879 Prediction: if you want you\n",
      "24 loss: 0.00399528 Prediction: if you want you\n",
      "25 loss: 0.00326012 Prediction: if you want you\n",
      "26 loss: 0.00270477 Prediction: if you want you\n",
      "27 loss: 0.00227834 Prediction: if you want you\n",
      "28 loss: 0.00194658 Prediction: if you want you\n",
      "29 loss: 0.00168562 Prediction: if you want you\n",
      "30 loss: 0.00147826 Prediction: if you want you\n",
      "31 loss: 0.00131182 Prediction: if you want you\n",
      "32 loss: 0.00117674 Prediction: if you want you\n",
      "33 loss: 0.00106593 Prediction: if you want you\n",
      "34 loss: 0.000974038 Prediction: if you want you\n",
      "35 loss: 0.000897001 Prediction: if you want you\n",
      "36 loss: 0.000831703 Prediction: if you want you\n",
      "37 loss: 0.000775853 Prediction: if you want you\n",
      "38 loss: 0.000727613 Prediction: if you want you\n",
      "39 loss: 0.000685627 Prediction: if you want you\n",
      "40 loss: 0.000648799 Prediction: if you want you\n",
      "41 loss: 0.000616337 Prediction: if you want you\n",
      "42 loss: 0.000587527 Prediction: if you want you\n",
      "43 loss: 0.000561868 Prediction: if you want you\n",
      "44 loss: 0.000538908 Prediction: if you want you\n",
      "45 loss: 0.000518315 Prediction: if you want you\n",
      "46 loss: 0.000499738 Prediction: if you want you\n",
      "47 loss: 0.000483004 Prediction: if you want you\n",
      "48 loss: 0.000467857 Prediction: if you want you\n",
      "49 loss: 0.000454132 Prediction: if you want you\n"
     ]
    }
   ],
   "source": [
    "prediction = tf.argmax(outputs, axis=2)\n",
    "\n",
    "with tf.Session() as sess:\n",
    "    sess.run(tf.global_variables_initializer())\n",
    "    for i in range(50):\n",
    "        l, _ = sess.run([loss, train], feed_dict={X: x_data, Y: y_data})\n",
    "        result = sess.run(prediction, feed_dict={X: x_data})\n",
    "\n",
    "        # print char using dic\n",
    "        result_str = [idx2char[c] for c in np.squeeze(result)]\n",
    "\n",
    "        print(i, \"loss:\", l, \"Prediction:\", ''.join(result_str))"
   ]
  },
  {
   "cell_type": "code",
   "execution_count": null,
   "metadata": {
    "collapsed": true
   },
   "outputs": [],
   "source": []
  },
  {
   "cell_type": "code",
   "execution_count": null,
   "metadata": {
    "collapsed": true
   },
   "outputs": [],
   "source": []
  }
 ],
 "metadata": {
  "kernelspec": {
   "display_name": "Python 3",
   "language": "python",
   "name": "python3"
  },
  "language_info": {
   "codemirror_mode": {
    "name": "ipython",
    "version": 3
   },
   "file_extension": ".py",
   "mimetype": "text/x-python",
   "name": "python",
   "nbconvert_exporter": "python",
   "pygments_lexer": "ipython3",
   "version": "3.6.3"
  }
 },
 "nbformat": 4,
 "nbformat_minor": 2
}
