{
 "cells": [
  {
   "cell_type": "code",
   "execution_count": 20,
   "metadata": {
    "collapsed": true
   },
   "outputs": [],
   "source": [
    "# Lab 12 Character Sequence RNN\n",
    "import tensorflow as tf\n",
    "import numpy as np\n",
    "tf.set_random_seed(777)  # reproducibility\n",
    "tf.reset_default_graph()"
   ]
  },
  {
   "cell_type": "code",
   "execution_count": 21,
   "metadata": {
    "collapsed": true
   },
   "outputs": [],
   "source": [
    "sample = \" if you want you\"\n",
    "idx2char = list(set(sample))  # index -> char\n",
    "char2idx = {c: i for i, c in enumerate(idx2char)}  # char -> idex"
   ]
  },
  {
   "cell_type": "code",
   "execution_count": 22,
   "metadata": {
    "collapsed": true
   },
   "outputs": [],
   "source": [
    "# hyper parameters\n",
    "dic_size = len(char2idx)  # RNN input size (one hot size)\n",
    "hidden_size = len(char2idx)  # RNN output size\n",
    "num_classes = len(char2idx)  # final output size (RNN or softmax, etc.)\n",
    "batch_size = 1  # one sample data, one batch\n",
    "sequence_length = len(sample) - 1  # number of lstm rollings (unit #)\n",
    "learning_rate = 0.1\n"
   ]
  },
  {
   "cell_type": "code",
   "execution_count": 23,
   "metadata": {
    "collapsed": true
   },
   "outputs": [],
   "source": [
    "sample_idx = [char2idx[c] for c in sample]  # char to index\n",
    "x_data = [sample_idx[:-1]]  # X data sample (0 ~ n-1) hello: hell\n",
    "y_data = [sample_idx[1:]]   # Y label sample (1 ~ n) hello: ello\n"
   ]
  },
  {
   "cell_type": "code",
   "execution_count": 24,
   "metadata": {
    "collapsed": true
   },
   "outputs": [],
   "source": [
    "X = tf.placeholder(tf.int32, [None, sequence_length])  # X data\n",
    "Y = tf.placeholder(tf.int32, [None, sequence_length])  # Y label\n"
   ]
  },
  {
   "cell_type": "code",
   "execution_count": 25,
   "metadata": {},
   "outputs": [],
   "source": [
    "x_one_hot = tf.one_hot(X, num_classes)  # one hot: 1 -> 0 1 0 0 0 0 0 0 0 0\n",
    "\n",
    "'''\n",
    "# state_is_tuple : 이전 state를 tuple로 저장\n",
    "cell = tf.contrib.rnn.BasicLSTMCell(\n",
    "    num_units=hidden_size, state_is_tuple=True)\n",
    "'''\n",
    "cell = tf.contrib.rnn.BasicLSTMCell(\n",
    "     num_units=hidden_size)\n",
    "initial_state = cell.zero_state(batch_size, tf.float32)\n",
    "outputs, _states = tf.nn.dynamic_rnn(\n",
    "    cell, x_one_hot, initial_state=initial_state, dtype=tf.float32)\n"
   ]
  },
  {
   "cell_type": "code",
   "execution_count": 15,
   "metadata": {
    "collapsed": true
   },
   "outputs": [],
   "source": [
    "# FC layer\n",
    "X_for_fc = tf.reshape(outputs, [-1, hidden_size])\n",
    "outputs = tf.contrib.layers.fully_connected(X_for_fc, num_classes, activation_fn=None)"
   ]
  },
  {
   "cell_type": "code",
   "execution_count": 16,
   "metadata": {
    "collapsed": true
   },
   "outputs": [],
   "source": [
    "# reshape out for sequence_loss\n",
    "outputs = tf.reshape(outputs, [batch_size, sequence_length, num_classes])\n"
   ]
  },
  {
   "cell_type": "code",
   "execution_count": 17,
   "metadata": {
    "collapsed": true
   },
   "outputs": [],
   "source": [
    "weights = tf.ones([batch_size, sequence_length])\n",
    "sequence_loss = tf.contrib.seq2seq.sequence_loss(\n",
    "    logits=outputs, targets=Y, weights=weights)\n",
    "loss = tf.reduce_mean(sequence_loss)\n",
    "train = tf.train.AdamOptimizer(learning_rate=learning_rate).minimize(loss)\n"
   ]
  },
  {
   "cell_type": "code",
   "execution_count": 18,
   "metadata": {},
   "outputs": [
    {
     "name": "stdout",
     "output_type": "stream",
     "text": [
      "0 loss: 2.31705 Prediction: yyyy u   y  y u\n",
      "1 loss: 2.19862 Prediction: y  yyu yyyyyyyu\n",
      "2 loss: 2.06886 Prediction: y  you yyy  you\n",
      "3 loss: 1.88859 Prediction: y   ou      you\n",
      "4 loss: 1.64126 Prediction: y   ou  an  you\n",
      "5 loss: 1.31646 Prediction: yu you  ann you\n",
      "6 loss: 1.00942 Prediction: yu you  ant you\n",
      "7 loss: 0.739977 Prediction: yf you want you\n",
      "8 loss: 0.525457 Prediction: yf you want you\n",
      "9 loss: 0.367246 Prediction: yf you want you\n",
      "10 loss: 0.251243 Prediction: if you want you\n",
      "11 loss: 0.170128 Prediction: if you want you\n",
      "12 loss: 0.115286 Prediction: if you want you\n",
      "13 loss: 0.0768127 Prediction: if you want you\n",
      "14 loss: 0.0506168 Prediction: if you want you\n",
      "15 loss: 0.0333266 Prediction: if you want you\n",
      "16 loss: 0.022125 Prediction: if you want you\n",
      "17 loss: 0.0149369 Prediction: if you want you\n",
      "18 loss: 0.0103241 Prediction: if you want you\n",
      "19 loss: 0.00733763 Prediction: if you want you\n",
      "20 loss: 0.0053726 Prediction: if you want you\n",
      "21 loss: 0.00405191 Prediction: if you want you\n",
      "22 loss: 0.00314287 Prediction: if you want you\n",
      "23 loss: 0.00250149 Prediction: if you want you\n",
      "24 loss: 0.00203787 Prediction: if you want you\n",
      "25 loss: 0.00169515 Prediction: if you want you\n",
      "26 loss: 0.00143626 Prediction: if you want you\n",
      "27 loss: 0.00123696 Prediction: if you want you\n",
      "28 loss: 0.00108082 Prediction: if you want you\n",
      "29 loss: 0.000956419 Prediction: if you want you\n",
      "30 loss: 0.000855923 Prediction: if you want you\n",
      "31 loss: 0.00077359 Prediction: if you want you\n",
      "32 loss: 0.000705375 Prediction: if you want you\n",
      "33 loss: 0.000648123 Prediction: if you want you\n",
      "34 loss: 0.000599666 Prediction: if you want you\n",
      "35 loss: 0.000558179 Prediction: if you want you\n",
      "36 loss: 0.000522481 Prediction: if you want you\n",
      "37 loss: 0.000491412 Prediction: if you want you\n",
      "38 loss: 0.0004644 Prediction: if you want you\n",
      "39 loss: 0.000440613 Prediction: if you want you\n",
      "40 loss: 0.000419636 Prediction: if you want you\n",
      "41 loss: 0.000401058 Prediction: if you want you\n",
      "42 loss: 0.00038456 Prediction: if you want you\n",
      "43 loss: 0.000369786 Prediction: if you want you\n",
      "44 loss: 0.000356545 Prediction: if you want you\n",
      "45 loss: 0.000344622 Prediction: if you want you\n",
      "46 loss: 0.000333858 Prediction: if you want you\n",
      "47 loss: 0.000324119 Prediction: if you want you\n",
      "48 loss: 0.000315238 Prediction: if you want you\n",
      "49 loss: 0.000307096 Prediction: if you want you\n"
     ]
    }
   ],
   "source": [
    "prediction = tf.argmax(outputs, axis=2)\n",
    "\n",
    "with tf.Session() as sess:\n",
    "    sess.run(tf.global_variables_initializer())\n",
    "    for i in range(50):\n",
    "        l, _ = sess.run([loss, train], feed_dict={X: x_data, Y: y_data})\n",
    "        result = sess.run(prediction, feed_dict={X: x_data})\n",
    "\n",
    "        # print char using dic\n",
    "        result_str = [idx2char[c] for c in np.squeeze(result)]\n",
    "\n",
    "        print(i, \"loss:\", l, \"Prediction:\", ''.join(result_str))"
   ]
  },
  {
   "cell_type": "code",
   "execution_count": null,
   "metadata": {
    "collapsed": true
   },
   "outputs": [],
   "source": []
  },
  {
   "cell_type": "code",
   "execution_count": null,
   "metadata": {
    "collapsed": true
   },
   "outputs": [],
   "source": []
  }
 ],
 "metadata": {
  "kernelspec": {
   "display_name": "Python 3",
   "language": "python",
   "name": "python3"
  },
  "language_info": {
   "codemirror_mode": {
    "name": "ipython",
    "version": 3
   },
   "file_extension": ".py",
   "mimetype": "text/x-python",
   "name": "python",
   "nbconvert_exporter": "python",
   "pygments_lexer": "ipython3",
   "version": "3.6.3"
  }
 },
 "nbformat": 4,
 "nbformat_minor": 2
}
